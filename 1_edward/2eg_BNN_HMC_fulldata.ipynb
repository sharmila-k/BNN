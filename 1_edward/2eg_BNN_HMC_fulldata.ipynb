{
 "cells": [
  {
   "cell_type": "markdown",
   "metadata": {},
   "source": [
    "ref:\n",
    "https://nbviewer.jupyter.org/github/blei-lab/edward/blob/master/notebooks/getting_started.ipynb\n",
    "\n",
    "http://edwardlib.org/getting-started\n",
    "\n",
    "****** for notation\n",
    "http://edwardlib.org/api/inference"
   ]
  },
  {
   "cell_type": "markdown",
   "metadata": {},
   "source": [
    " Here we will show a Bayesian neural network. It is a neural network with a prior distribution on its weights."
   ]
  },
  {
   "cell_type": "code",
   "execution_count": 1,
   "metadata": {},
   "outputs": [
    {
     "name": "stderr",
     "output_type": "stream",
     "text": [
      "/Users/sharmila/.local/lib/python3.6/site-packages/tensorflow/python/framework/dtypes.py:517: FutureWarning: Passing (type, 1) or '1type' as a synonym of type is deprecated; in a future version of numpy, it will be understood as (type, (1,)) / '(1,)type'.\n",
      "  _np_qint8 = np.dtype([(\"qint8\", np.int8, 1)])\n",
      "/Users/sharmila/.local/lib/python3.6/site-packages/tensorflow/python/framework/dtypes.py:518: FutureWarning: Passing (type, 1) or '1type' as a synonym of type is deprecated; in a future version of numpy, it will be understood as (type, (1,)) / '(1,)type'.\n",
      "  _np_quint8 = np.dtype([(\"quint8\", np.uint8, 1)])\n",
      "/Users/sharmila/.local/lib/python3.6/site-packages/tensorflow/python/framework/dtypes.py:519: FutureWarning: Passing (type, 1) or '1type' as a synonym of type is deprecated; in a future version of numpy, it will be understood as (type, (1,)) / '(1,)type'.\n",
      "  _np_qint16 = np.dtype([(\"qint16\", np.int16, 1)])\n",
      "/Users/sharmila/.local/lib/python3.6/site-packages/tensorflow/python/framework/dtypes.py:520: FutureWarning: Passing (type, 1) or '1type' as a synonym of type is deprecated; in a future version of numpy, it will be understood as (type, (1,)) / '(1,)type'.\n",
      "  _np_quint16 = np.dtype([(\"quint16\", np.uint16, 1)])\n",
      "/Users/sharmila/.local/lib/python3.6/site-packages/tensorflow/python/framework/dtypes.py:521: FutureWarning: Passing (type, 1) or '1type' as a synonym of type is deprecated; in a future version of numpy, it will be understood as (type, (1,)) / '(1,)type'.\n",
      "  _np_qint32 = np.dtype([(\"qint32\", np.int32, 1)])\n",
      "/Users/sharmila/.local/lib/python3.6/site-packages/tensorflow/python/framework/dtypes.py:526: FutureWarning: Passing (type, 1) or '1type' as a synonym of type is deprecated; in a future version of numpy, it will be understood as (type, (1,)) / '(1,)type'.\n",
      "  np_resource = np.dtype([(\"resource\", np.ubyte, 1)])\n"
     ]
    }
   ],
   "source": [
    "from __future__ import absolute_import\n",
    "from __future__ import division\n",
    "from __future__ import print_function\n",
    "\n",
    "%matplotlib inline\n",
    "\n",
    "import edward as ed\n",
    "import matplotlib.pyplot as plt\n",
    "import numpy as np\n",
    "import tensorflow as tf\n",
    "import seaborn as sns\n",
    "import pandas as pd\n",
    "from edward.models import Normal,Empirical\n",
    "\n",
    "plt.style.use('ggplot')"
   ]
  },
  {
   "cell_type": "code",
   "execution_count": 2,
   "metadata": {},
   "outputs": [
    {
     "name": "stdout",
     "output_type": "stream",
     "text": [
      "(94, 1) (94,)\n"
     ]
    }
   ],
   "source": [
    "# Getting needed data\n",
    "\n",
    "data = np.loadtxt('motor.dat')\n",
    "\n",
    "X_data = data[:, 0][:, None]\n",
    "y_data = data[:, 1]\n",
    "\n",
    "print (np.shape(X_data),np.shape(y_data))\n",
    "\n",
    "X_data = np.float32(X_data)\n",
    "y_data = np.float32(y_data) \n",
    "\n",
    "N_points = X_data.shape[0]"
   ]
  },
  {
   "cell_type": "code",
   "execution_count": 3,
   "metadata": {},
   "outputs": [
    {
     "name": "stdout",
     "output_type": "stream",
     "text": [
      "(94, 1) (94,)\n"
     ]
    }
   ],
   "source": [
    "# Shuffling dataset\n",
    "from sklearn.utils import shuffle\n",
    "\n",
    "X_data_shuff,y_data_shuff = shuffle(X_data,y_data,random_state=23)\n",
    "print (np.shape(X_data_shuff),np.shape(y_data_shuff))"
   ]
  },
  {
   "cell_type": "code",
   "execution_count": 4,
   "metadata": {},
   "outputs": [
    {
     "name": "stdout",
     "output_type": "stream",
     "text": [
      "(75, 1) (75,)\n",
      "(19, 1) (19,)\n"
     ]
    }
   ],
   "source": [
    "# Splitting dataset\n",
    "\n",
    "from sklearn.model_selection import train_test_split\n",
    "X_train, X_test, y_train, y_test = train_test_split(X_data_shuff, y_data_shuff, test_size=0.2, random_state=23)\n",
    "print (np.shape(X_train), np.shape(y_train))\n",
    "print (np.shape(X_test), np.shape(y_test))"
   ]
  },
  {
   "cell_type": "code",
   "execution_count": 5,
   "metadata": {},
   "outputs": [
    {
     "name": "stdout",
     "output_type": "stream",
     "text": [
      "1 10\n"
     ]
    }
   ],
   "source": [
    "D = np.shape(X_train)[1]  # number of features or number of input neurons\n",
    "H = 10\n",
    "print (D,H) "
   ]
  },
  {
   "cell_type": "code",
   "execution_count": 6,
   "metadata": {},
   "outputs": [],
   "source": [
    "ed.set_seed(42)"
   ]
  },
  {
   "cell_type": "markdown",
   "metadata": {},
   "source": [
    "Next, define a two-layer Bayesian neural network. Here, we define the neural network manually with `tanh` nonlinearities."
   ]
  },
  {
   "cell_type": "code",
   "execution_count": 7,
   "metadata": {},
   "outputs": [],
   "source": [
    "# Neural network number of neurons [D,H,H,1]\n",
    "def neural_network(x, W_0, W_1, W_2, b_0, b_1, b_2):\n",
    "    h = tf.tanh(tf.matmul(x, W_0) + b_0)\n",
    "    h = tf.tanh(tf.matmul(h, W_1) + b_1)\n",
    "    h = tf.matmul(h, W_2) + b_2\n",
    "    return tf.reshape(h, [-1])\n",
    "\n",
    "# prior\n",
    "W_0 = Normal(loc=tf.zeros([D, H]), scale=tf.ones([D, H]),name=\"W_0\")\n",
    "W_1 = Normal(loc=tf.zeros([H, H]), scale=tf.ones([H, H]), name=\"W_1\")\n",
    "W_2 = Normal(loc=tf.zeros([H, 1]), scale=tf.ones([H, 1]), name=\"W_2\")\n",
    "b_0 = Normal(loc=tf.zeros(H), scale=tf.ones(H), name=\"b_0\")\n",
    "b_1 = Normal(loc=tf.zeros(H), scale=tf.ones(H), name=\"b_1\")\n",
    "b_2 = Normal(loc=tf.zeros(1), scale=tf.ones(1), name=\"b_2\")\n",
    "\n",
    "#likelihood\n",
    "X = tf.placeholder(tf.float32, [None, D], name=\"X\")\n",
    "y = Normal(loc=neural_network(X, W_0, W_1, W_2, b_0, b_1, b_2),\n",
    "           scale=0.1 , name=\"y\")"
   ]
  },
  {
   "cell_type": "markdown",
   "metadata": {},
   "source": [
    "Next, make inferences about the model from data."
   ]
  },
  {
   "cell_type": "markdown",
   "metadata": {},
   "source": [
    "q's are random variables defined to approximate the posterior [http://edwardlib.org/api/inference]"
   ]
  },
  {
   "cell_type": "code",
   "execution_count": 8,
   "metadata": {},
   "outputs": [],
   "source": [
    "# ref: https://github.com/blei-lab/edward/blob/master/examples/bayesian_logistic_regression.py\n",
    "T = 6000 #Number of posterior samples\n",
    "# INFERENCE\n",
    "#ref:https://github.com/blei-lab/edward/blob/master/examples/bayesian_logistic_regression.py\n",
    "qW_0 = Empirical(params=tf.get_variable(\"qW_0/params\",[T,D,H]))\n",
    "qW_1 = Empirical(params=tf.get_variable(\"qW_1/params\",[T,H,H]))\n",
    "qW_2 = Empirical(params=tf.get_variable(\"qW_2/params\",[T,H,1]))\n",
    "qb_0 = Empirical(params=tf.get_variable(\"qb_0/params\",[T,H]))\n",
    "qb_1 = Empirical(params=tf.get_variable(\"qb_1/params\",[T,H]))\n",
    "qb_2 = Empirical(params=tf.get_variable(\"qb_2/params\",[T,1]))"
   ]
  },
  {
   "cell_type": "markdown",
   "metadata": {},
   "source": [
    "Defining `tf.get_variable` allows the variational factors’ parameters to vary. They are initialized randomly."
   ]
  },
  {
   "cell_type": "code",
   "execution_count": 9,
   "metadata": {},
   "outputs": [],
   "source": [
    "# Sample functions from empirical model to visualize fits.\n",
    "qW_0_s = qW_0.sample(1000)\n",
    "qW_1_s = qW_1.sample(1000)\n",
    "qW_2_s = qW_2.sample(1000)\n",
    "qb_0_s = qb_0.sample(1000)\n",
    "qb_1_s = qb_1.sample(1000)\n",
    "qb_2_s = qb_2.sample(1000)\n",
    "preds = tf.stack(\n",
    "    [neural_network(X_data, qW_0_s[i], qW_1_s[i],qW_2_s[i],\n",
    "                    qb_0_s[i], qb_1_s[i], qb_2_s[i])\n",
    "     for i in range(1000)])"
   ]
  },
  {
   "cell_type": "code",
   "execution_count": 10,
   "metadata": {
    "scrolled": false
   },
   "outputs": [
    {
     "name": "stdout",
     "output_type": "stream",
     "text": [
      "(1000, 94)\n",
      "(94,)\n",
      "(999, 94)\n"
     ]
    },
    {
     "data": {
      "image/png": "[encoded data removed]",
      "text/plain": [
       "<Figure size 720x432 with 1 Axes>"
      ]
     },
     "metadata": {},
     "output_type": "display_data"
    }
   ],
   "source": [
    "# FIRST VISUALIZATION (prior) #before optimization\n",
    "\n",
    "sess = ed.get_session()\n",
    "tf.global_variables_initializer().run()\n",
    "outputs = preds.eval()\n",
    "\n",
    "print(np.shape(outputs))\n",
    "print(np.shape(outputs[0]))\n",
    "print(np.shape(outputs[1:]))\n",
    "\n",
    "fig = plt.figure(figsize=(10, 6))\n",
    "ax = fig.add_subplot(111)\n",
    "ax.set_title(\"Iteration: 0\")\n",
    "ax.plot(y_data, 'ks', alpha=0.5, label='(x, y)') # full data (train+test)\n",
    "ax.plot(outputs[0].T, 'r', lw=2, alpha=0.5, label='prior draws')\n",
    "ax.plot(outputs[1:5].T, 'r', lw=2, alpha=0.5)\n",
    "ax.legend()\n",
    "plt.show()"
   ]
  },
  {
   "cell_type": "markdown",
   "metadata": {},
   "source": [
    "Now, run HMC in order to infer the model’s latent variables given data."
   ]
  },
  {
   "cell_type": "code",
   "execution_count": 11,
   "metadata": {},
   "outputs": [
    {
     "name": "stderr",
     "output_type": "stream",
     "text": [
      "/Users/sharmila/anaconda3/envs/py36/lib/python3.6/site-packages/edward/util/random_variables.py:52: FutureWarning: Conversion of the second argument of issubdtype from `float` to `np.floating` is deprecated. In future, it will be treated as `np.float64 == np.dtype(float).type`.\n",
      "  not np.issubdtype(value.dtype, np.float) and \\\n"
     ]
    },
    {
     "name": "stdout",
     "output_type": "stream",
     "text": [
      "6000/6000 [100%] ██████████████████████████████ Elapsed: 47s | Acceptance Rate: 0.011\n"
     ]
    }
   ],
   "source": [
    "inference = ed.HMC({W_0: qW_0, b_0: qb_0, W_1: qW_1, b_1: qb_1, W_2: qW_2, b_2: qb_2}, data={X: X_train, y: y_train})\n",
    "\n",
    "inference.run(step_size=0.005, n_steps=15)\n",
    "\n",
    "# #or\n",
    "\n",
    "# inference.initialize(n_print=10, step_size=0.5/N_points, n_steps=10)\n",
    "# tf.global_variables_initializer().run()\n",
    "# for t in range(inference.n_iter):\n",
    "#     info_dict = inference.update()\n",
    "#     inference.print_progress(info_dict)"
   ]
  },
  {
   "cell_type": "code",
   "execution_count": 12,
   "metadata": {},
   "outputs": [
    {
     "name": "stdout",
     "output_type": "stream",
     "text": [
      "6000 60 15\n"
     ]
    }
   ],
   "source": [
    "print(inference.n_iter,inference.n_print,inference.n_steps)"
   ]
  },
  {
   "cell_type": "code",
   "execution_count": 13,
   "metadata": {},
   "outputs": [],
   "source": [
    "# print(help(inference))"
   ]
  },
  {
   "cell_type": "code",
   "execution_count": 14,
   "metadata": {},
   "outputs": [],
   "source": [
    "## burning first few samples\n",
    "burn = 1000\n",
    "qW_0_params_b = qW_0.params.eval()[burn:,]\n",
    "qW_1_params_b = qW_1.params.eval()[burn:,]\n",
    "qW_2_params_b = qW_2.params.eval()[burn:,]\n",
    "qb_0_params_b = qb_0.params.eval()[burn:,]\n",
    "qb_1_params_b = qb_1.params.eval()[burn:,]\n",
    "qb_2_params_b = qb_2.params.eval()[burn:,]\n",
    "preds = tf.stack(\n",
    "    [neural_network(X_data, qW_0_params_b[i], qW_1_params_b[i], qW_2_params_b[i],\n",
    "                   qb_0_params_b[i], qb_1_params_b[i], qb_2_params_b[i])\n",
    "     for i in range(1000)])"
   ]
  },
  {
   "cell_type": "markdown",
   "metadata": {},
   "source": [
    "Finally, criticize the model fit. Bayesian neural networks define a distribution over neural networks, so we can perform a graphical check. Draw neural networks from the inferred model and visualize how well it fits the data."
   ]
  },
  {
   "cell_type": "code",
   "execution_count": 15,
   "metadata": {},
   "outputs": [
    {
     "data": {
      "image/png": "[encoded data removed]",
      "text/plain": [
       "<Figure size 1080x1080 with 2 Axes>"
      ]
     },
     "metadata": {},
     "output_type": "display_data"
    }
   ],
   "source": [
    "# SECOND VISUALIZATION (posterior) #after optimization\n",
    "\n",
    "outputs = preds.eval()\n",
    "\n",
    "fig = plt.figure(figsize=(15, 15))\n",
    "\n",
    "ax1 = fig.add_subplot(211)\n",
    "ax1.set_title(\"Iteration:\"+str(inference.n_iter))\n",
    "ax1.plot(y_data, 'ks', alpha=0.5, label='(x, y)') # full data (train+test)\n",
    "ax1.plot(outputs[0].T, 'r', lw=2, alpha=0.5, label='posterior draws/pred from BNN with updated weights')\n",
    "ax1.plot(outputs[1:5].T, 'r', lw=2, alpha=0.5)\n",
    "ax1.legend()\n",
    "\n",
    "\n",
    "mean_pred = np.mean(outputs, axis=0)\n",
    "std_pred = np.std(outputs, axis=0)\n",
    "ax2 = fig.add_subplot(212)\n",
    "ax2.plot(y_data, 'ks', alpha=0.5, label='(x, y)') # full data (train+test)\n",
    "ax2.plot(  mean_pred , 'r', lw=2, alpha=0.5, label='mean')\n",
    "ax2.fill_between( np.arange(len(y_data)), mean_pred-2*std_pred, mean_pred+2*std_pred, alpha = 0.3, color = 'orange',label='epistemic uncertanity')\n",
    "ax2.legend()\n",
    "\n",
    "plt.show()"
   ]
  },
  {
   "cell_type": "markdown",
   "metadata": {},
   "source": [
    "The model has captured the relationship between $x$ and $y$ in the observed domain."
   ]
  },
  {
   "cell_type": "code",
   "execution_count": 16,
   "metadata": {},
   "outputs": [
    {
     "data": {
      "image/png": "[encoded data removed]",
      "text/plain": [
       "<Figure size 1080x1080 with 2 Axes>"
      ]
     },
     "metadata": {},
     "output_type": "display_data"
    }
   ],
   "source": [
    "# THIRD VISUALIZATION (posterior predictive) \n",
    "preds_lik = tf.stack(\n",
    "    [ Normal( loc=neural_network(X_data, qW_0_params_b[i], qW_1_params_b[i], qW_2_params_b[i],\n",
    "                   qb_0_params_b[i], qb_1_params_b[i], qb_2_params_b[i]),scale=0.1 ).sample() \n",
    "     for i in range(1000)])\n",
    "outputs_lik = preds_lik.eval()\n",
    "\n",
    "\n",
    "fig = plt.figure(figsize=(15, 15))\n",
    "\n",
    "ax1 = fig.add_subplot(211)\n",
    "ax1.set_title(\"Iteration:\"+str(inference.n_iter))\n",
    "ax1.plot( y_data, 'ks', alpha=0.5, label='(x, y)') # full data (train+test)\n",
    "ax1.plot(outputs_lik[0].T, 'r', lw=2, alpha=0.5, label='posterior predictive draws')\n",
    "ax1.plot( outputs_lik[1:5].T, 'r', lw=2, alpha=0.5)\n",
    "ax1.legend()\n",
    "\n",
    "mean_pred_lik = np.mean(outputs_lik, axis=0)\n",
    "std_pred_lik = np.std(outputs_lik, axis=0)\n",
    "ax2 = fig.add_subplot(212)\n",
    "ax2.plot(y_data, 'ks', alpha=0.5, label='(x, y)') # full data (train+test)\n",
    "ax2.plot( mean_pred_lik , 'r', lw=2, alpha=0.5, label='mean')\n",
    "ax2.fill_between( np.arange(len(y_data)), mean_pred_lik-2*std_pred_lik, mean_pred_lik+2*std_pred_lik, alpha = 0.3, color = 'orange',label='Uncertanity')\n",
    "ax2.legend()\n",
    "\n",
    "plt.show()"
   ]
  },
  {
   "cell_type": "code",
   "execution_count": 17,
   "metadata": {},
   "outputs": [
    {
     "name": "stdout",
     "output_type": "stream",
     "text": [
      "          HMC  actual  error_HMC\n",
      "0  -19.317160     0.0 -19.317160\n",
      "1  -19.316681    -1.3 -18.016682\n",
      "2  -19.313482    -2.7 -16.613482\n",
      "3  -19.321157     0.0 -19.321157\n",
      "4  -19.320000    -2.7 -16.619999\n",
      "..        ...     ...        ...\n",
      "89 -19.325993    10.7 -30.025993\n",
      "90 -19.316999   -14.7  -4.617000\n",
      "91 -19.326809    -2.7 -16.626808\n",
      "92 -19.324696    -2.7 -16.624695\n",
      "93 -19.322411    10.7 -30.022411\n",
      "\n",
      "[94 rows x 3 columns]\n",
      "RMSE for HMC predictions = 50.376\n"
     ]
    },
    {
     "name": "stderr",
     "output_type": "stream",
     "text": [
      "/Users/sharmila/anaconda3/envs/py36/lib/python3.6/site-packages/scipy/stats/stats.py:1713: FutureWarning: Using a non-tuple sequence for multidimensional indexing is deprecated; use `arr[tuple(seq)]` instead of `arr[seq]`. In the future this will be interpreted as an array index, `arr[np.array(seq)]`, which will result either in an error or a different result.\n",
      "  return np.add.reduce(sorted[indexer] * weights, axis=axis) / sumval\n"
     ]
    },
    {
     "data": {
      "image/png": "[encoded data removed]",
      "text/plain": [
       "<Figure size 360x360 with 1 Axes>"
      ]
     },
     "metadata": {},
     "output_type": "display_data"
    }
   ],
   "source": [
    "prediction_data = pd.DataFrame(\n",
    "    {'HMC': mean_pred_lik.flatten(), \n",
    "     'actual': y_data.flatten(),\n",
    "     'error_HMC': ( mean_pred_lik - y_data).flatten()})\n",
    "\n",
    "print (prediction_data)\n",
    "\n",
    "_ = sns.lmplot(y='HMC', x='actual', data=prediction_data,\n",
    "               line_kws={'color': 'red', 'alpha': 0.5})\n",
    "\n",
    "RMSE = np.sqrt(np.mean(prediction_data.error_HMC ** 2))\n",
    "print(f'RMSE for HMC predictions = {RMSE:.3f}')"
   ]
  },
  {
   "cell_type": "code",
   "execution_count": 18,
   "metadata": {},
   "outputs": [],
   "source": [
    "# print (y_post)\n",
    "# print(W_0)"
   ]
  },
  {
   "cell_type": "code",
   "execution_count": 19,
   "metadata": {},
   "outputs": [
    {
     "name": "stdout",
     "output_type": "stream",
     "text": [
      "(1000, 1, 10)\n"
     ]
    },
    {
     "data": {
      "image/png": "[encoded data removed]",
      "text/plain": [
       "<Figure size 432x288 with 1 Axes>"
      ]
     },
     "metadata": {},
     "output_type": "display_data"
    }
   ],
   "source": [
    "check = qW_0.sample(1000).eval()\n",
    "print(check.shape)\n",
    "param_samples_HMC = pd.DataFrame(\n",
    "    {'qW_0[0,0]': check.reshape(check.shape[0],check.shape[2])[:,0], \n",
    "     'qW_0[0,1]': check.reshape(check.shape[0],check.shape[2])[:,1]})\n",
    "\n",
    "_ = sns.scatterplot(x='qW_0[0,0]', y='qW_0[0,1]', data=param_samples_HMC).set_title('HMC')"
   ]
  },
  {
   "cell_type": "code",
   "execution_count": 20,
   "metadata": {},
   "outputs": [
    {
     "name": "stdout",
     "output_type": "stream",
     "text": [
      "RandomVariable(\"Empirical/\", shape=(1, 10), dtype=float32)\n"
     ]
    }
   ],
   "source": [
    "print(qW_0)"
   ]
  },
  {
   "cell_type": "code",
   "execution_count": 21,
   "metadata": {},
   "outputs": [
    {
     "name": "stdout",
     "output_type": "stream",
     "text": [
      "[[[ 8.4036123e-04  4.7680382e-03 -6.9836434e-04 ...  3.4196526e-03\n",
      "    7.1707191e-03  7.2188983e-03]]\n",
      "\n",
      " [[ 8.4036123e-04  4.7680382e-03 -6.9836434e-04 ...  3.4196526e-03\n",
      "    7.1707191e-03  7.2188983e-03]]\n",
      "\n",
      " [[ 8.4036123e-04  4.7680382e-03 -6.9836434e-04 ...  3.4196526e-03\n",
      "    7.1707191e-03  7.2188983e-03]]\n",
      "\n",
      " ...\n",
      "\n",
      " [[ 2.2680283e+00 -4.2863417e-01  4.9953551e+00 ... -2.9204011e+00\n",
      "    2.7572243e+00 -5.1615472e+00]]\n",
      "\n",
      " [[ 2.2680283e+00 -4.2863417e-01  4.9953551e+00 ... -2.9204011e+00\n",
      "    2.7572243e+00 -5.1615472e+00]]\n",
      "\n",
      " [[ 2.2680283e+00 -4.2863417e-01  4.9953551e+00 ... -2.9204011e+00\n",
      "    2.7572243e+00 -5.1615472e+00]]]\n",
      "(6000, 1, 10)\n",
      "[[ 0.00084036  0.00476804 -0.00069836 -0.00242177 -0.00081332 -0.00378502\n",
      "   0.00569327  0.00341965  0.00717072  0.0072189 ]]\n",
      "(1, 10)\n"
     ]
    }
   ],
   "source": [
    "print(qW_0.params.eval())\n",
    "print(qW_0.params.eval().shape)\n",
    "print(qW_0.params.eval()[0])\n",
    "print(qW_0.params.eval()[0].shape)"
   ]
  },
  {
   "cell_type": "code",
   "execution_count": 22,
   "metadata": {},
   "outputs": [
    {
     "name": "stdout",
     "output_type": "stream",
     "text": [
      "[[ 2.2680283  -0.42863417  4.995355   -1.9470539  -1.6251366  -7.3423142\n",
      "   6.6212378  -2.920401    2.7572243  -5.161547  ]]\n"
     ]
    }
   ],
   "source": [
    "print(qW_0.sample().eval())"
   ]
  },
  {
   "cell_type": "code",
   "execution_count": 23,
   "metadata": {},
   "outputs": [
    {
     "name": "stdout",
     "output_type": "stream",
     "text": [
      "(5998, 1, 10)\n",
      "[[[ 8.4036123e-04  4.7680382e-03 -6.9836434e-04 ...  3.4196526e-03\n",
      "    7.1707191e-03  7.2188983e-03]]\n",
      "\n",
      " [[ 8.4036123e-04  4.7680382e-03 -6.9836434e-04 ...  3.4196526e-03\n",
      "    7.1707191e-03  7.2188983e-03]]\n",
      "\n",
      " [[ 8.4036123e-04  4.7680382e-03 -6.9836434e-04 ...  3.4196526e-03\n",
      "    7.1707191e-03  7.2188983e-03]]\n",
      "\n",
      " ...\n",
      "\n",
      " [[ 2.2680283e+00 -4.2863417e-01  4.9953551e+00 ... -2.9204011e+00\n",
      "    2.7572243e+00 -5.1615472e+00]]\n",
      "\n",
      " [[ 2.2680283e+00 -4.2863417e-01  4.9953551e+00 ... -2.9204011e+00\n",
      "    2.7572243e+00 -5.1615472e+00]]\n",
      "\n",
      " [[ 2.2680283e+00 -4.2863417e-01  4.9953551e+00 ... -2.9204011e+00\n",
      "    2.7572243e+00 -5.1615472e+00]]]\n",
      "-0.2507589\n",
      "[[ 2.0502207 -0.3876962  4.500322  -1.7609842 -1.4730823 -6.63652\n",
      "   5.9848323 -2.633366   2.5001335 -4.6517158]]\n",
      "[[ 0.00084036  0.00476804 -0.00069836 -0.00242177 -0.00081332 -0.00378502\n",
      "   0.00569327  0.00341965  0.00717072  0.0072189 ]]\n"
     ]
    }
   ],
   "source": [
    "burn = 2\n",
    "print(qW_0.params.eval()[burn:,].shape)\n",
    "print(qW_0.params.eval()[burn:,])\n",
    "print(qW_0.params.eval()[burn:,].mean())\n",
    "print(qW_0.params.eval()[burn:,].mean(0))\n",
    "print(qW_0.params.eval()[burn:,][0])"
   ]
  },
  {
   "cell_type": "code",
   "execution_count": 24,
   "metadata": {},
   "outputs": [
    {
     "name": "stdout",
     "output_type": "stream",
     "text": [
      "[[[ 2.2680283  -0.42863417  4.995355   ... -2.920401    2.7572243\n",
      "   -5.161547  ]]\n",
      "\n",
      " [[ 2.2680283  -0.42863417  4.995355   ... -2.920401    2.7572243\n",
      "   -5.161547  ]]\n",
      "\n",
      " [[ 2.2680283  -0.42863417  4.995355   ... -2.920401    2.7572243\n",
      "   -5.161547  ]]\n",
      "\n",
      " ...\n",
      "\n",
      " [[ 2.2680283  -0.42863417  4.995355   ... -2.920401    2.7572243\n",
      "   -5.161547  ]]\n",
      "\n",
      " [[ 2.2680283  -0.42863417  4.995355   ... -2.920401    2.7572243\n",
      "   -5.161547  ]]\n",
      "\n",
      " [[ 2.2680283  -0.42863417  4.995355   ... -2.920401    2.7572243\n",
      "   -5.161547  ]]]\n",
      "(5000, 1, 10)\n",
      "[[ 2.2680283  -0.42863417  4.995355   -1.9470539  -1.6251366  -7.3423142\n",
      "   6.6212378  -2.920401    2.7572243  -5.161547  ]]\n",
      "(1, 10)\n"
     ]
    }
   ],
   "source": [
    "print(qW_0_params_b)\n",
    "print(qW_0_params_b.shape)\n",
    "print(qW_0_params_b[0])\n",
    "print(qW_0_params_b[0].shape)"
   ]
  },
  {
   "cell_type": "code",
   "execution_count": null,
   "metadata": {},
   "outputs": [],
   "source": []
  },
  {
   "cell_type": "code",
   "execution_count": null,
   "metadata": {},
   "outputs": [],
   "source": []
  }
 ],
 "metadata": {
  "kernelspec": {
   "display_name": "Python 3",
   "language": "python",
   "name": "python3"
  },
  "language_info": {
   "codemirror_mode": {
    "name": "ipython",
    "version": 3
   },
   "file_extension": ".py",
   "mimetype": "text/x-python",
   "name": "python",
   "nbconvert_exporter": "python",
   "pygments_lexer": "ipython3",
   "version": "3.6.10"
  }
 },
 "nbformat": 4,
 "nbformat_minor": 1
}
