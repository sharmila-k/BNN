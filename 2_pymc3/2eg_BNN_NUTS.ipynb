{
 "cells": [
  {
   "cell_type": "code",
   "execution_count": 1,
   "metadata": {},
   "outputs": [],
   "source": [
    "# ref: \n",
    "\n",
    "# https://alexioannides.com/2018/11/07/bayesian-regression-in-pymc3-using-mcmc-variational-inference/\n",
    "# https://docs.pymc.io/notebooks/bayesian_neural_network_advi.html\n",
    "\n",
    "# http://stronginference.com/pymc3-release.html\n",
    "# https://docs.pymc.io/notebooks/getting_started.html\n",
    "\n",
    "# https://towardsdatascience.com/hands-on-bayesian-statistics-with-python-pymc3-arviz-499db9a59501"
   ]
  },
  {
   "cell_type": "markdown",
   "metadata": {},
   "source": [
    "About NUTS [a self tuning form of HMC]\n",
    "http://stronginference.com/pymc3-release.html\n",
    "    \n",
    "Though the version 2 and version 3 models are superficially similar (by design), there are very different things happening underneath when sampleis called in either case. By default, the PyMC3 model will use a form of gradient-based MCMC sampling, a self-tuning form of Hamiltonian Monte Carlo, called NUTS. Gradient based methods serve to drastically improve the efficiency of MCMC, without the need for running long chains and dropping large portions of the chains due to lack of convergence. Rather than conditionally sampling each model parameter in turn, the NUTS algorithm walks in k-space (where k is the number of model parameters), simultaneously updating all the parameters as it leap-frogs through the parameter space. Models of moderate complexity and size that would normally require 50,000 to 100,000 iterations now typically require only 2000-3000.\n",
    "\n",
    "Unless specified otherwise, PyMC3 will assign the NUTS sampler to all the variables of the model. This happens here because our model contains only continuous random variables; NUTS will not work with discrete variables because it is impossible to obtain gradient information from them. Discrete variables are assigned the Metropolissampling algorithm (step method, in PyMC parlance). The next thing that happens is that the variables' initial values are assigned using Automatic Differentiation Variational Inference (ADVI). This is an approximate Bayesian inference algorithm that we have added to PyMC — more on that later. Though it can be used for inference in its own right, here we are using it merely to find good starting values for NUTS (in practice, this is important for getting NUTS to run well). Its an excessive step for small models like this, but it is the default behavior, designed to try and guarantee a good MCMC run."
   ]
  },
  {
   "cell_type": "code",
   "execution_count": 2,
   "metadata": {},
   "outputs": [
    {
     "name": "stderr",
     "output_type": "stream",
     "text": [
      "WARNING (theano.configdefaults): install mkl with `conda install mkl-service`: No module named 'mkl'\n"
     ]
    }
   ],
   "source": [
    "%matplotlib inline\n",
    "import theano\n",
    "floatX = theano.config.floatX\n",
    "import pymc3 as pm\n",
    "import theano.tensor as T\n",
    "import sklearn\n",
    "import numpy as np\n",
    "import matplotlib.pyplot as plt\n",
    "import seaborn as sns\n",
    "import pandas as pd\n",
    "from warnings import filterwarnings\n",
    "filterwarnings('ignore')\n",
    "sns.set_style('white')\n",
    "np.random.seed(23)"
   ]
  },
  {
   "cell_type": "code",
   "execution_count": 3,
   "metadata": {},
   "outputs": [
    {
     "name": "stdout",
     "output_type": "stream",
     "text": [
      "(94, 1) (94, 1)\n"
     ]
    }
   ],
   "source": [
    "# Building dataset\n",
    "\n",
    "data = np.loadtxt('motor.dat')\n",
    "\n",
    "X_data = data[:, 0][:, None]\n",
    "y_data = data[:, 1][:, None]\n",
    "\n",
    "print (np.shape(X_data),np.shape(y_data))"
   ]
  },
  {
   "cell_type": "code",
   "execution_count": 4,
   "metadata": {},
   "outputs": [
    {
     "name": "stdout",
     "output_type": "stream",
     "text": [
      "(94, 1) (94, 1)\n"
     ]
    }
   ],
   "source": [
    "# Shuffling dataset\n",
    "from sklearn.utils import shuffle\n",
    "\n",
    "X_data_shuff,y_data_shuff = shuffle(X_data,y_data,random_state=23)\n",
    "print (np.shape(X_data_shuff),np.shape(y_data_shuff))"
   ]
  },
  {
   "cell_type": "code",
   "execution_count": 5,
   "metadata": {},
   "outputs": [
    {
     "name": "stdout",
     "output_type": "stream",
     "text": [
      "(75, 1) (75, 1)\n",
      "(19, 1) (19, 1)\n"
     ]
    }
   ],
   "source": [
    "# Splitting dataset\n",
    "\n",
    "from sklearn.model_selection import train_test_split\n",
    "X_train, X_test, y_train, y_test = train_test_split(X_data_shuff, y_data_shuff, test_size=0.2, random_state=23)\n",
    "print (np.shape(X_train), np.shape(y_train))\n",
    "print (np.shape(X_test), np.shape(y_test))"
   ]
  },
  {
   "cell_type": "code",
   "execution_count": 6,
   "metadata": {},
   "outputs": [],
   "source": [
    "# Building pymc model\n",
    "\n",
    "n_hidden = 10\n",
    "\n",
    "# Initialize random weights between each layer\n",
    "init_w_1 = np.random.randn(X_train.shape[1], n_hidden).astype(floatX)\n",
    "init_w_2 = np.random.randn(n_hidden, n_hidden).astype(floatX)\n",
    "init_w_out = np.random.randn(n_hidden,1).astype(floatX)\n",
    "\n",
    "init_b_1 = np.random.randn(n_hidden).astype(floatX)\n",
    "init_b_2 = np.random.randn(n_hidden).astype(floatX)\n",
    "init_b_out = np.random.randn(1).astype(floatX)\n",
    "\n",
    "\n",
    "def DNN(x_tensor, weights_in_1, bias_in_1, weights_1_2, bias_1_2, weights_2_out, bias_2_out):\n",
    "    act_1 = pm.math.tanh(pm.math.dot(x_tensor,weights_in_1)+bias_in_1)\n",
    "    act_2 = pm.math.tanh(pm.math.dot(act_1,weights_1_2)+bias_1_2)\n",
    "    act_out = pm.math.dot(act_2,weights_2_out)+bias_2_out\n",
    "    return act_out\n",
    "\n",
    "with pm.Model() as neural_network:\n",
    "    # Trick: Turning inputs and outputs into shared variables \n",
    "    # It's still the same thing, but we can later change the values of the shared variable\n",
    "    # (to switch in the test-data later) and pymc3 will just use the new data.\n",
    "    # Kind-of like a pointer we can redirect.\n",
    "    # For more info, see: http://deeplearning.net/software/theano/library/compile/shared.html\n",
    "    y_tensor = theano.shared(y_train)\n",
    "    x_tensor = theano.shared(X_train)\n",
    "\n",
    "    #PRIOR\n",
    "    # Weights and biases from input to hidden layer\n",
    "    weights_in_1 = pm.Normal('w_in_1', 0, sigma=1,\n",
    "                             shape=(X_train.shape[1], n_hidden),\n",
    "                             testval=init_w_1)\n",
    "    \n",
    "    bias_in_1 = pm.Normal('b_in_1', 0, sigma=1,\n",
    "                             shape=(n_hidden),\n",
    "                             testval=init_b_1)\n",
    "\n",
    "    # Weights and biases from 1st to 2nd layer\n",
    "    weights_1_2 = pm.Normal('w_1_2', 0, sigma=1,\n",
    "                            shape=(n_hidden, n_hidden),\n",
    "                            testval=init_w_2)\n",
    "  \n",
    "    bias_1_2 = pm.Normal('b_1_2', 0, sigma=1,\n",
    "                             shape=(n_hidden),\n",
    "                             testval=init_b_2)\n",
    "\n",
    "    # Weights and biases from hidden layer to output\n",
    "    weights_2_out = pm.Normal('w_2_out', 0, sigma=1,\n",
    "                              shape=(n_hidden,1),\n",
    "                              testval=init_w_out)\n",
    "\n",
    "    bias_2_out = pm.Normal('b_2_out', 0, sigma=1,\n",
    "                             shape=(1),\n",
    "                             testval=init_b_out)\n",
    "        \n",
    "    # Build neural-network using activation function\n",
    "    act_out = DNN(x_tensor, weights_in_1, bias_in_1, weights_1_2, bias_1_2, weights_2_out, bias_2_out)\n",
    "\n",
    "    # LIKELIHOOD\n",
    "    out = pm.Normal('out', mu=act_out, sigma=0.1, observed=y_tensor)\n"
   ]
  },
  {
   "cell_type": "code",
   "execution_count": 7,
   "metadata": {},
   "outputs": [
    {
     "name": "stdout",
     "output_type": "stream",
     "text": [
      "(5, 94)\n"
     ]
    },
    {
     "data": {
      "image/png": "[encoded data removed]",
      "text/plain": [
       "<Figure size 720x432 with 1 Axes>"
      ]
     },
     "metadata": {},
     "output_type": "display_data"
    }
   ],
   "source": [
    "#checking prior draws\n",
    "\n",
    "with neural_network:\n",
    "    preds =[DNN(X_data, weights_in_1.random(), bias_in_1.random(), weights_1_2.random(), bias_1_2.random(), weights_2_out.random(), bias_2_out.random()).eval()\n",
    "     for _ in range(5)]\n",
    "    preds = np.asarray(preds)\n",
    "    outputs = preds.reshape(preds.shape[0],preds.shape[1])\n",
    "    print(np.shape(outputs))\n",
    "\n",
    "    fig = plt.figure(figsize=(10, 6))\n",
    "    ax = fig.add_subplot(111)\n",
    "    ax.plot(y_data, 'ks', alpha=0.5, label='(x, y)') # full data (train+test)\n",
    "    ax.plot(outputs[0].T, 'r', lw=2, alpha=0.5, label='prior draws')\n",
    "    ax.plot(outputs[1:].T, 'r', lw=2, alpha=0.5)\n",
    "    ax.legend()\n",
    "    plt.show()"
   ]
  },
  {
   "cell_type": "code",
   "execution_count": 8,
   "metadata": {},
   "outputs": [],
   "source": [
    "from pymc3.theanof import set_tt_rng, MRG_RandomStreams\n",
    "set_tt_rng(MRG_RandomStreams(42))"
   ]
  },
  {
   "cell_type": "markdown",
   "metadata": {},
   "source": [
    "## Drawing samples"
   ]
  },
  {
   "cell_type": "code",
   "execution_count": 9,
   "metadata": {
    "scrolled": false
   },
   "outputs": [
    {
     "name": "stderr",
     "output_type": "stream",
     "text": [
      "Auto-assigning NUTS sampler...\n",
      "Initializing NUTS using jitter+adapt_diag...\n",
      "WARNING (theano.tensor.blas): We did not find a dynamic library in the library_dir of the library we use for blas. If you use ATLAS, make sure to compile it with dynamics library.\n",
      "WARNING (theano.tensor.blas): We did not find a dynamic library in the library_dir of the library we use for blas. If you use ATLAS, make sure to compile it with dynamics library.\n",
      "Multiprocess sampling (2 chains in 2 jobs)\n",
      "NUTS: [b_2_out, w_2_out, b_1_2, w_1_2, b_in_1, w_in_1]\n",
      "Sampling 2 chains, 0 divergences:  12%|█▏        | 1432/12000 [00:07<00:57, 185.35draws/s]\n"
     ]
    },
    {
     "ename": "RuntimeError",
     "evalue": "Chain 0 failed.",
     "output_type": "error",
     "traceback": [
      "\u001b[0;31m---------------------------------------------------------------------------\u001b[0m",
      "\u001b[0;31mRemoteTraceback\u001b[0m                           Traceback (most recent call last)",
      "\u001b[0;31mRemoteTraceback\u001b[0m: \n\"\"\"\nTraceback (most recent call last):\n  File \"/Users/sharmila/anaconda3/envs/py36/lib/python3.6/site-packages/pymc3/parallel_sampling.py\", line 110, in run\n    self._start_loop()\n  File \"/Users/sharmila/anaconda3/envs/py36/lib/python3.6/site-packages/pymc3/parallel_sampling.py\", line 160, in _start_loop\n    point, stats = self._compute_point()\n  File \"/Users/sharmila/anaconda3/envs/py36/lib/python3.6/site-packages/pymc3/parallel_sampling.py\", line 191, in _compute_point\n    point, stats = self._step_method.step(self._point)\n  File \"/Users/sharmila/anaconda3/envs/py36/lib/python3.6/site-packages/pymc3/step_methods/arraystep.py\", line 247, in step\n    apoint, stats = self.astep(array)\n  File \"/Users/sharmila/anaconda3/envs/py36/lib/python3.6/site-packages/pymc3/step_methods/hmc/base_hmc.py\", line 130, in astep\n    self.potential.raise_ok(self._logp_dlogp_func._ordering.vmap)\n  File \"/Users/sharmila/anaconda3/envs/py36/lib/python3.6/site-packages/pymc3/step_methods/hmc/quadpotential.py\", line 231, in raise_ok\n    raise ValueError('\\n'.join(errmsg))\nValueError: Mass matrix contains zeros on the diagonal. \nThe derivative of RV `b_1_2`.ravel()[3] is zero.\nThe derivative of RV `w_1_2`.ravel()[3] is zero.\nThe derivative of RV `w_1_2`.ravel()[10] is zero.\nThe derivative of RV `w_1_2`.ravel()[13] is zero.\nThe derivative of RV `w_1_2`.ravel()[18] is zero.\nThe derivative of RV `w_1_2`.ravel()[20] is zero.\nThe derivative of RV `b_in_1`.ravel()[0] is zero.\nThe derivative of RV `b_in_1`.ravel()[2] is zero.\nThe derivative of RV `b_in_1`.ravel()[3] is zero.\nThe derivative of RV `b_in_1`.ravel()[4] is zero.\nThe derivative of RV `w_in_1`.ravel()[0] is zero.\nThe derivative of RV `w_in_1`.ravel()[2] is zero.\nThe derivative of RV `w_in_1`.ravel()[3] is zero.\nThe derivative of RV `w_in_1`.ravel()[4] is zero.\n\"\"\"",
      "\nThe above exception was the direct cause of the following exception:\n",
      "\u001b[0;31mValueError\u001b[0m                                Traceback (most recent call last)",
      "\u001b[0;31mValueError\u001b[0m: Mass matrix contains zeros on the diagonal. \nThe derivative of RV `b_1_2`.ravel()[3] is zero.\nThe derivative of RV `w_1_2`.ravel()[3] is zero.\nThe derivative of RV `w_1_2`.ravel()[10] is zero.\nThe derivative of RV `w_1_2`.ravel()[13] is zero.\nThe derivative of RV `w_1_2`.ravel()[18] is zero.\nThe derivative of RV `w_1_2`.ravel()[20] is zero.\nThe derivative of RV `b_in_1`.ravel()[0] is zero.\nThe derivative of RV `b_in_1`.ravel()[2] is zero.\nThe derivative of RV `b_in_1`.ravel()[3] is zero.\nThe derivative of RV `b_in_1`.ravel()[4] is zero.\nThe derivative of RV `w_in_1`.ravel()[0] is zero.\nThe derivative of RV `w_in_1`.ravel()[2] is zero.\nThe derivative of RV `w_in_1`.ravel()[3] is zero.\nThe derivative of RV `w_in_1`.ravel()[4] is zero.",
      "\nThe above exception was the direct cause of the following exception:\n",
      "\u001b[0;31mRuntimeError\u001b[0m                              Traceback (most recent call last)",
      "\u001b[0;32m<ipython-input-9-dbca73828de0>\u001b[0m in \u001b[0;36m<module>\u001b[0;34m\u001b[0m\n\u001b[1;32m      1\u001b[0m \u001b[0;31m# Carrying out MCMC\u001b[0m\u001b[0;34m\u001b[0m\u001b[0;34m\u001b[0m\u001b[0;34m\u001b[0m\u001b[0m\n\u001b[1;32m      2\u001b[0m \u001b[0;32mwith\u001b[0m \u001b[0mneural_network\u001b[0m\u001b[0;34m:\u001b[0m\u001b[0;34m\u001b[0m\u001b[0;34m\u001b[0m\u001b[0m\n\u001b[0;32m----> 3\u001b[0;31m     \u001b[0mtrace\u001b[0m \u001b[0;34m=\u001b[0m \u001b[0mpm\u001b[0m\u001b[0;34m.\u001b[0m\u001b[0msample\u001b[0m\u001b[0;34m(\u001b[0m\u001b[0mdraws\u001b[0m\u001b[0;34m=\u001b[0m\u001b[0;36m5000\u001b[0m\u001b[0;34m,\u001b[0m \u001b[0mtune\u001b[0m\u001b[0;34m=\u001b[0m\u001b[0;36m1000\u001b[0m\u001b[0;34m,\u001b[0m \u001b[0mcores\u001b[0m\u001b[0;34m=\u001b[0m\u001b[0;36m2\u001b[0m\u001b[0;34m)\u001b[0m\u001b[0;34m\u001b[0m\u001b[0;34m\u001b[0m\u001b[0m\n\u001b[0m\u001b[1;32m      4\u001b[0m \u001b[0;34m\u001b[0m\u001b[0m\n\u001b[1;32m      5\u001b[0m \u001b[0mpm\u001b[0m\u001b[0;34m.\u001b[0m\u001b[0mtraceplot\u001b[0m\u001b[0;34m(\u001b[0m\u001b[0mtrace\u001b[0m\u001b[0;34m)\u001b[0m\u001b[0;34m\u001b[0m\u001b[0;34m\u001b[0m\u001b[0m\n",
      "\u001b[0;32m~/anaconda3/envs/py36/lib/python3.6/site-packages/pymc3/sampling.py\u001b[0m in \u001b[0;36msample\u001b[0;34m(draws, step, init, n_init, start, trace, chain_idx, chains, cores, tune, progressbar, model, random_seed, discard_tuned_samples, compute_convergence_checks, **kwargs)\u001b[0m\n\u001b[1;32m    467\u001b[0m         \u001b[0m_print_step_hierarchy\u001b[0m\u001b[0;34m(\u001b[0m\u001b[0mstep\u001b[0m\u001b[0;34m)\u001b[0m\u001b[0;34m\u001b[0m\u001b[0;34m\u001b[0m\u001b[0m\n\u001b[1;32m    468\u001b[0m         \u001b[0;32mtry\u001b[0m\u001b[0;34m:\u001b[0m\u001b[0;34m\u001b[0m\u001b[0;34m\u001b[0m\u001b[0m\n\u001b[0;32m--> 469\u001b[0;31m             \u001b[0mtrace\u001b[0m \u001b[0;34m=\u001b[0m \u001b[0m_mp_sample\u001b[0m\u001b[0;34m(\u001b[0m\u001b[0;34m**\u001b[0m\u001b[0msample_args\u001b[0m\u001b[0;34m)\u001b[0m\u001b[0;34m\u001b[0m\u001b[0;34m\u001b[0m\u001b[0m\n\u001b[0m\u001b[1;32m    470\u001b[0m         \u001b[0;32mexcept\u001b[0m \u001b[0mpickle\u001b[0m\u001b[0;34m.\u001b[0m\u001b[0mPickleError\u001b[0m\u001b[0;34m:\u001b[0m\u001b[0;34m\u001b[0m\u001b[0;34m\u001b[0m\u001b[0m\n\u001b[1;32m    471\u001b[0m             \u001b[0m_log\u001b[0m\u001b[0;34m.\u001b[0m\u001b[0mwarning\u001b[0m\u001b[0;34m(\u001b[0m\u001b[0;34m\"Could not pickle model, sampling singlethreaded.\"\u001b[0m\u001b[0;34m)\u001b[0m\u001b[0;34m\u001b[0m\u001b[0;34m\u001b[0m\u001b[0m\n",
      "\u001b[0;32m~/anaconda3/envs/py36/lib/python3.6/site-packages/pymc3/sampling.py\u001b[0m in \u001b[0;36m_mp_sample\u001b[0;34m(draws, tune, step, chains, cores, chain, random_seed, start, progressbar, trace, model, **kwargs)\u001b[0m\n\u001b[1;32m   1057\u001b[0m         \u001b[0;32mtry\u001b[0m\u001b[0;34m:\u001b[0m\u001b[0;34m\u001b[0m\u001b[0;34m\u001b[0m\u001b[0m\n\u001b[1;32m   1058\u001b[0m             \u001b[0;32mwith\u001b[0m \u001b[0msampler\u001b[0m\u001b[0;34m:\u001b[0m\u001b[0;34m\u001b[0m\u001b[0;34m\u001b[0m\u001b[0m\n\u001b[0;32m-> 1059\u001b[0;31m                 \u001b[0;32mfor\u001b[0m \u001b[0mdraw\u001b[0m \u001b[0;32min\u001b[0m \u001b[0msampler\u001b[0m\u001b[0;34m:\u001b[0m\u001b[0;34m\u001b[0m\u001b[0;34m\u001b[0m\u001b[0m\n\u001b[0m\u001b[1;32m   1060\u001b[0m                     \u001b[0mtrace\u001b[0m \u001b[0;34m=\u001b[0m \u001b[0mtraces\u001b[0m\u001b[0;34m[\u001b[0m\u001b[0mdraw\u001b[0m\u001b[0;34m.\u001b[0m\u001b[0mchain\u001b[0m \u001b[0;34m-\u001b[0m \u001b[0mchain\u001b[0m\u001b[0;34m]\u001b[0m\u001b[0;34m\u001b[0m\u001b[0;34m\u001b[0m\u001b[0m\n\u001b[1;32m   1061\u001b[0m                     \u001b[0;32mif\u001b[0m \u001b[0mtrace\u001b[0m\u001b[0;34m.\u001b[0m\u001b[0msupports_sampler_stats\u001b[0m \u001b[0;32mand\u001b[0m \u001b[0mdraw\u001b[0m\u001b[0;34m.\u001b[0m\u001b[0mstats\u001b[0m \u001b[0;32mis\u001b[0m \u001b[0;32mnot\u001b[0m \u001b[0;32mNone\u001b[0m\u001b[0;34m:\u001b[0m\u001b[0;34m\u001b[0m\u001b[0;34m\u001b[0m\u001b[0m\n",
      "\u001b[0;32m~/anaconda3/envs/py36/lib/python3.6/site-packages/pymc3/parallel_sampling.py\u001b[0m in \u001b[0;36m__iter__\u001b[0;34m(self)\u001b[0m\n\u001b[1;32m    392\u001b[0m \u001b[0;34m\u001b[0m\u001b[0m\n\u001b[1;32m    393\u001b[0m         \u001b[0;32mwhile\u001b[0m \u001b[0mself\u001b[0m\u001b[0;34m.\u001b[0m\u001b[0m_active\u001b[0m\u001b[0;34m:\u001b[0m\u001b[0;34m\u001b[0m\u001b[0;34m\u001b[0m\u001b[0m\n\u001b[0;32m--> 394\u001b[0;31m             \u001b[0mdraw\u001b[0m \u001b[0;34m=\u001b[0m \u001b[0mProcessAdapter\u001b[0m\u001b[0;34m.\u001b[0m\u001b[0mrecv_draw\u001b[0m\u001b[0;34m(\u001b[0m\u001b[0mself\u001b[0m\u001b[0;34m.\u001b[0m\u001b[0m_active\u001b[0m\u001b[0;34m)\u001b[0m\u001b[0;34m\u001b[0m\u001b[0;34m\u001b[0m\u001b[0m\n\u001b[0m\u001b[1;32m    395\u001b[0m             \u001b[0mproc\u001b[0m\u001b[0;34m,\u001b[0m \u001b[0mis_last\u001b[0m\u001b[0;34m,\u001b[0m \u001b[0mdraw\u001b[0m\u001b[0;34m,\u001b[0m \u001b[0mtuning\u001b[0m\u001b[0;34m,\u001b[0m \u001b[0mstats\u001b[0m\u001b[0;34m,\u001b[0m \u001b[0mwarns\u001b[0m \u001b[0;34m=\u001b[0m \u001b[0mdraw\u001b[0m\u001b[0;34m\u001b[0m\u001b[0;34m\u001b[0m\u001b[0m\n\u001b[1;32m    396\u001b[0m             \u001b[0;32mif\u001b[0m \u001b[0mself\u001b[0m\u001b[0;34m.\u001b[0m\u001b[0m_progress\u001b[0m \u001b[0;32mis\u001b[0m \u001b[0;32mnot\u001b[0m \u001b[0;32mNone\u001b[0m\u001b[0;34m:\u001b[0m\u001b[0;34m\u001b[0m\u001b[0;34m\u001b[0m\u001b[0m\n",
      "\u001b[0;32m~/anaconda3/envs/py36/lib/python3.6/site-packages/pymc3/parallel_sampling.py\u001b[0m in \u001b[0;36mrecv_draw\u001b[0;34m(processes, timeout)\u001b[0m\n\u001b[1;32m    295\u001b[0m             \u001b[0;32melse\u001b[0m\u001b[0;34m:\u001b[0m\u001b[0;34m\u001b[0m\u001b[0;34m\u001b[0m\u001b[0m\n\u001b[1;32m    296\u001b[0m                 \u001b[0merror\u001b[0m \u001b[0;34m=\u001b[0m \u001b[0mRuntimeError\u001b[0m\u001b[0;34m(\u001b[0m\u001b[0;34m\"Chain %s failed.\"\u001b[0m \u001b[0;34m%\u001b[0m \u001b[0mproc\u001b[0m\u001b[0;34m.\u001b[0m\u001b[0mchain\u001b[0m\u001b[0;34m)\u001b[0m\u001b[0;34m\u001b[0m\u001b[0;34m\u001b[0m\u001b[0m\n\u001b[0;32m--> 297\u001b[0;31m             \u001b[0;32mraise\u001b[0m \u001b[0merror\u001b[0m \u001b[0;32mfrom\u001b[0m \u001b[0mold_error\u001b[0m\u001b[0;34m\u001b[0m\u001b[0;34m\u001b[0m\u001b[0m\n\u001b[0m\u001b[1;32m    298\u001b[0m         \u001b[0;32melif\u001b[0m \u001b[0mmsg\u001b[0m\u001b[0;34m[\u001b[0m\u001b[0;36m0\u001b[0m\u001b[0;34m]\u001b[0m \u001b[0;34m==\u001b[0m \u001b[0;34m\"writing_done\"\u001b[0m\u001b[0;34m:\u001b[0m\u001b[0;34m\u001b[0m\u001b[0;34m\u001b[0m\u001b[0m\n\u001b[1;32m    299\u001b[0m             \u001b[0mproc\u001b[0m\u001b[0;34m.\u001b[0m\u001b[0m_readable\u001b[0m \u001b[0;34m=\u001b[0m \u001b[0;32mTrue\u001b[0m\u001b[0;34m\u001b[0m\u001b[0;34m\u001b[0m\u001b[0m\n",
      "\u001b[0;31mRuntimeError\u001b[0m: Chain 0 failed."
     ]
    }
   ],
   "source": [
    "# Carrying out MCMC\n",
    "with neural_network:\n",
    "    trace = pm.sample(draws=5000, tune=1000, cores=2)\n",
    "\n",
    "pm.traceplot(trace)\n",
    "pm.summary(trace)"
   ]
  },
  {
   "cell_type": "markdown",
   "metadata": {},
   "source": [
    "## Checking"
   ]
  },
  {
   "cell_type": "code",
   "execution_count": null,
   "metadata": {},
   "outputs": [],
   "source": [
    "# checking posterior draws\n",
    "\n",
    "preds =[DNN(X_data, trace['w_in_1'][i], trace['b_in_1'][i], trace['w_1_2'][i], trace['b_1_2'][i], trace['w_2_out'][i], trace['b_2_out'][i]).eval()\n",
    " for i in range(5)]\n",
    "preds = np.asarray(preds)\n",
    "outputs = preds.reshape(preds.shape[0],preds.shape[1])\n",
    "print(np.shape(outputs))\n",
    "\n",
    "fig = plt.figure(figsize=(10, 6))\n",
    "ax = fig.add_subplot(111)\n",
    "ax.plot(y_data, 'ks', alpha=0.5, label='(x, y)') # full data (train+test)\n",
    "ax.plot(outputs[0].T, 'r', lw=2, alpha=0.5, label='posterior draws')\n",
    "ax.plot(outputs[1:].T, 'r', lw=2, alpha=0.5)\n",
    "ax.legend()\n",
    "plt.show()"
   ]
  },
  {
   "cell_type": "markdown",
   "metadata": {
    "scrolled": true
   },
   "source": [
    "## Testing"
   ]
  },
  {
   "cell_type": "code",
   "execution_count": null,
   "metadata": {},
   "outputs": [],
   "source": [
    "# testing on whole data for now instead of test data\n",
    "y_tensor.set_value(y_data)\n",
    "x_tensor.set_value(X_data)"
   ]
  },
  {
   "cell_type": "code",
   "execution_count": null,
   "metadata": {},
   "outputs": [],
   "source": [
    "posterior_preds = pm.sample_posterior_predictive(trace, 1000, neural_network)\n",
    "mean_prediction = np.mean(posterior_preds['out'], axis=0)\n",
    "stddev_prediction = np.std(posterior_preds['out'], axis=0)\n",
    "print (posterior_preds['out'].shape)"
   ]
  },
  {
   "cell_type": "code",
   "execution_count": null,
   "metadata": {},
   "outputs": [],
   "source": [
    "prediction_data = pd.DataFrame(\n",
    "    {'MCMC': mean_prediction.flatten(), \n",
    "     'actual': y_data.flatten(),\n",
    "     'error_MCMC': ( mean_prediction - y_data).flatten()})\n",
    "\n",
    "print (prediction_data)\n",
    "\n",
    "_ = sns.lmplot(y='MCMC', x='actual', data=prediction_data,\n",
    "               line_kws={'color': 'red', 'alpha': 0.5})"
   ]
  },
  {
   "cell_type": "code",
   "execution_count": null,
   "metadata": {},
   "outputs": [],
   "source": [
    "fig = plt.figure(figsize=(15, 15))\n",
    "\n",
    "ax1 = fig.add_subplot(211)\n",
    "ax1.plot(y_data, 'ks', alpha=0.5, label='(x, y)') # full data (train+test)\n",
    "ax1.plot(posterior_preds['out'][0] ,'r', lw=2, alpha=0.5, label='posterior predictive draws')\n",
    "ax1.plot(posterior_preds['out'][1:5].reshape(4,X_data.shape[0]).T, 'r', lw=2, alpha=0.5)\n",
    "ax1.legend()\n",
    "\n",
    "ax2 = fig.add_subplot(212)\n",
    "ax2.plot(y_data, 'ks', alpha=0.5, label='(x, y)') # full data (train+test)\n",
    "ax2.plot(mean_prediction , 'r', lw=2, alpha=0.5, label='mean')\n",
    "ax2.fill_between( np.arange(len(y_data)), (mean_prediction-2*stddev_prediction).ravel(), (mean_prediction+2*stddev_prediction).ravel(), alpha = 0.3, color = 'orange',label='uncertanity')\n",
    "ax2.legend()\n",
    "\n",
    "plt.show()"
   ]
  },
  {
   "cell_type": "code",
   "execution_count": null,
   "metadata": {},
   "outputs": [],
   "source": [
    "RMSE = np.sqrt(np.mean(prediction_data.error_MCMC ** 2))\n",
    "\n",
    "print(f'RMSE for MCMC predictions = {RMSE:.3f}')"
   ]
  },
  {
   "cell_type": "code",
   "execution_count": null,
   "metadata": {
    "scrolled": true
   },
   "outputs": [],
   "source": [
    "print(trace.get_values('w_in_1').shape)\n",
    "\n",
    "param_samples_MCMC = pd.DataFrame(\n",
    "    {'w_in_1[0,0]': trace.get_values('w_in_1').reshape(trace.get_values('w_in_1').shape[0],trace.get_values('w_in_1').shape[2])[:,0], \n",
    "     'w_in_1[0,1]': trace.get_values('w_in_1').reshape(trace.get_values('w_in_1').shape[0],trace.get_values('w_in_1').shape[2])[:,1]})\n",
    "\n",
    "_ = sns.scatterplot(x='w_in_1[0,0]', y='w_in_1[0,1]', data=param_samples_MCMC).set_title('MCMC')"
   ]
  },
  {
   "cell_type": "code",
   "execution_count": null,
   "metadata": {},
   "outputs": [],
   "source": [
    "print (trace['w_in_1'].shape)"
   ]
  },
  {
   "cell_type": "code",
   "execution_count": null,
   "metadata": {},
   "outputs": [],
   "source": []
  }
 ],
 "metadata": {
  "kernelspec": {
   "display_name": "Python 3",
   "language": "python",
   "name": "python3"
  },
  "language_info": {
   "codemirror_mode": {
    "name": "ipython",
    "version": 3
   },
   "file_extension": ".py",
   "mimetype": "text/x-python",
   "name": "python",
   "nbconvert_exporter": "python",
   "pygments_lexer": "ipython3",
   "version": "3.6.10"
  }
 },
 "nbformat": 4,
 "nbformat_minor": 2
}
