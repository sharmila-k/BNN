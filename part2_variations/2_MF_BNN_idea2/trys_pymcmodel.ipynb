{
 "cells": [
  {
   "cell_type": "markdown",
   "metadata": {},
   "source": [
    "np.random.seed(14) # for data"
   ]
  },
  {
   "cell_type": "code",
   "execution_count": null,
   "metadata": {},
   "outputs": [],
   "source": [
    "# BNN parameters \n",
    "# Note: half of BNN 1 outputs go BNN2 and BNN3 respectively so always d_0[0] = int(d[-1]/2), d_1[0] = int(d[-1]/2)\n",
    "# and make sure d[-1] is even\n",
    "#For eg\n",
    "H = 10\n",
    "H_0 = 5\n",
    "H_1 = 5\n",
    "\n",
    "d = [X_l.shape[1], H, H]  # num_neurons_per_layer in BNN 1\n",
    "d_0 = [int(d[-1]/2), H_0, 1]  # num_neurons_per_layer in BNN 2\n",
    "d_1 = [int(d[-1]/2), H_1, 1]  # num_neurons_per_layer in BNN 3\n",
    "\n",
    "print ('BNN_1: '+ str(d))\n",
    "print ('BNN_2: '+ str(d_0))      \n",
    "print ('BNN_3: '+ str(d_1)) "
   ]
  },
  {
   "cell_type": "markdown",
   "metadata": {},
   "source": [
    "<img src=\"img/idea2.png\" width=\"300\" height=\"400\"/>"
   ]
  },
  {
   "cell_type": "code",
   "execution_count": null,
   "metadata": {},
   "outputs": [],
   "source": [
    "#try 1\n",
    "BNN_1: [1, 10, 10]\n",
    "BNN_2: [5, 5, 1]\n",
    "BNN_3: [5, 5, 1]\n",
    "tanh activation\n",
    "With ADVI 80k iterations, loss at end = 3,756.2"
   ]
  },
  {
   "cell_type": "markdown",
   "metadata": {},
   "source": [
    "<img src=\"img/try1_a.png\" width=\"300\" height=\"400\"/>"
   ]
  },
  {
   "cell_type": "code",
   "execution_count": null,
   "metadata": {},
   "outputs": [],
   "source": [
    "#try 2\n",
    "BNN_1: [1, 10, 10]\n",
    "BNN_2: [5, 5, 1]\n",
    "BNN_3: [5, 5, 1]\n",
    "swish activation\n",
    "With ADVI 80k iterations, loss at end = 958.56"
   ]
  },
  {
   "cell_type": "markdown",
   "metadata": {},
   "source": [
    "<img src=\"img/try2_a.png\" width=\"300\" height=\"400\"/>"
   ]
  },
  {
   "cell_type": "code",
   "execution_count": null,
   "metadata": {},
   "outputs": [],
   "source": [
    "#try 3\n",
    "BNN_1: [1, 20, 20, 20, 20]\n",
    "BNN_2: [10, 10, 10, 10, 1]\n",
    "BNN_3: [10, 10, 10, 10, 1]\n",
    "swish activation\n",
    "With ADVI 160k iterations, loss at end = 38,792"
   ]
  },
  {
   "cell_type": "markdown",
   "metadata": {},
   "source": [
    "<img src=\"img/try3_a.png\" width=\"300\" height=\"400\"/>"
   ]
  },
  {
   "cell_type": "code",
   "execution_count": null,
   "metadata": {},
   "outputs": [],
   "source": [
    "#try 4 \n",
    "BNN_1: [1, 10, 10, 10, 10]\n",
    "BNN_2: [5, 10, 10, 10, 1]\n",
    "BNN_3: [5, 10, 10, 10, 1]\n",
    "swish activation\n",
    "With ADVI 160k iterations, loss at end = 2,125"
   ]
  },
  {
   "cell_type": "markdown",
   "metadata": {},
   "source": [
    "<img src=\"img/try4_a.png\" width=\"300\" height=\"400\"/>"
   ]
  },
  {
   "cell_type": "code",
   "execution_count": null,
   "metadata": {},
   "outputs": [],
   "source": [
    "#try 5\n",
    "BNN_1: [1, 10, 10, 10]\n",
    "BNN_2: [5, 10, 10, 1]\n",
    "BNN_3: [5, 10, 10, 1]\n",
    "swish activation\n",
    "With ADVI 130k iterations, loss at end = 1,552.9"
   ]
  },
  {
   "cell_type": "markdown",
   "metadata": {},
   "source": [
    "<img src=\"img/try5_a.png\" width=\"300\" height=\"400\"/>"
   ]
  },
  {
   "cell_type": "code",
   "execution_count": null,
   "metadata": {},
   "outputs": [],
   "source": [
    "#try 6\n",
    "BNN_1: [1, 10, 10]\n",
    "BNN_2: [5, 15, 15, 1]\n",
    "BNN_3: [5, 15, 15, 1]\n",
    "swish activation\n",
    "With ADVI 130k iterations, loss at end = 1,457.6"
   ]
  },
  {
   "cell_type": "markdown",
   "metadata": {},
   "source": [
    "<img src=\"img/try6_a.png\" width=\"300\" height=\"400\"/>"
   ]
  },
  {
   "cell_type": "code",
   "execution_count": null,
   "metadata": {},
   "outputs": [],
   "source": []
  },
  {
   "cell_type": "code",
   "execution_count": null,
   "metadata": {},
   "outputs": [],
   "source": []
  },
  {
   "cell_type": "code",
   "execution_count": null,
   "metadata": {},
   "outputs": [],
   "source": []
  },
  {
   "cell_type": "code",
   "execution_count": null,
   "metadata": {},
   "outputs": [],
   "source": [
    "#try \n",
    "BNN_1: [1, 10, 10]\n",
    "BNN_2: [5, 5, 1]\n",
    "BNN_3: [5, 5, 1]\n",
    "swish activation\n",
    "With ADVI 80k iterations, loss at end = "
   ]
  },
  {
   "cell_type": "code",
   "execution_count": null,
   "metadata": {},
   "outputs": [],
   "source": [
    "<img src=\"img/try _a.png\" width=\"300\" height=\"400\"/>\n",
    "<img src=\"img/try _b.png\" width=\"300\" height=\"400\"/>"
   ]
  }
 ],
 "metadata": {
  "kernelspec": {
   "display_name": "Python 3",
   "language": "python",
   "name": "python3"
  },
  "language_info": {
   "codemirror_mode": {
    "name": "ipython",
    "version": 3
   },
   "file_extension": ".py",
   "mimetype": "text/x-python",
   "name": "python",
   "nbconvert_exporter": "python",
   "pygments_lexer": "ipython3",
   "version": "3.6.10"
  }
 },
 "nbformat": 4,
 "nbformat_minor": 2
}
