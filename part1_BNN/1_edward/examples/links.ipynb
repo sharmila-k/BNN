{
 "cells": [
  {
   "cell_type": "markdown",
   "metadata": {},
   "source": [
    "for training on batch data:\n",
    "http://edwardlib.org/tutorials/batch-training\n",
    "\n",
    "\n",
    "for loss graph:\n",
    "http://edwardlib.org/tutorials/mixture-density-network\n",
    "http://edwardlib.org/api/inference  \n",
    "\n",
    "\n",
    "for posterior predictive or ed_copy\n",
    "http://edwardlib.org/tutorials/batch-training\n",
    "http://edwardlib.org/api/ed/copy\n",
    "\n",
    "\n",
    "for HMC\n",
    "https://github.com/blei-lab/edward/blob/master/examples/bayesian_logistic_regression.py\n",
    "file:///Users/sharmila/Zotero/storage/EZWYCBZC/iclr2017.html\n",
    "https://nbviewer.jupyter.org/github/blei-lab/edward/blob/master/notebooks/eight_schools.ipynb\n",
    "\n",
    "for samples visualization\n",
    "https://nbviewer.jupyter.org/github/blei-lab/edward/blob/master/notebooks/supervised_regression.ipynb"
   ]
  }
 ],
 "metadata": {
  "kernelspec": {
   "display_name": "Python 3",
   "language": "python",
   "name": "python3"
  },
  "language_info": {
   "codemirror_mode": {
    "name": "ipython",
    "version": 3
   },
   "file_extension": ".py",
   "mimetype": "text/x-python",
   "name": "python",
   "nbconvert_exporter": "python",
   "pygments_lexer": "ipython3",
   "version": "3.6.10"
  }
 },
 "nbformat": 4,
 "nbformat_minor": 2
}
